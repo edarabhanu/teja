{
  "nbformat": 4,
  "nbformat_minor": 0,
  "metadata": {
    "colab": {
      "provenance": [],
      "authorship_tag": "ABX9TyNVuvNKjhJ951H3cnLu24/q",
      "include_colab_link": true
    },
    "kernelspec": {
      "name": "python3",
      "display_name": "Python 3"
    },
    "language_info": {
      "name": "python"
    }
  },
  "cells": [
    {
      "cell_type": "markdown",
      "metadata": {
        "id": "view-in-github",
        "colab_type": "text"
      },
      "source": [
        "<a href=\"https://colab.research.google.com/github/edarabhanu/teja/blob/main/Untitled5.ipynb\" target=\"_parent\"><img src=\"https://colab.research.google.com/assets/colab-badge.svg\" alt=\"Open In Colab\"/></a>"
      ]
    },
    {
      "cell_type": "code",
      "execution_count": 8,
      "metadata": {
        "colab": {
          "base_uri": "https://localhost:8080/"
        },
        "id": "5sYuhl2L8NI7",
        "outputId": "01c96eaf-7952-4035-8f2d-457cdd8c2af1"
      },
      "outputs": [
        {
          "output_type": "stream",
          "name": "stdout",
          "text": [
            "   plate  price\n",
            "0      1    160\n",
            "1      2    320\n",
            "2      3    480\n",
            "3      4    640\n",
            "4      5    800\n",
            "5      6    960\n",
            "6      7   1120\n",
            "7      8   1280\n",
            "8      9   1440\n",
            "9     10   1600\n",
            "1.0\n"
          ]
        }
      ],
      "source": [
        "import pandas as reddy\n",
        "from sklearn import linear_model\n",
        "teja=reddy.read_csv('bilal.csv')\n",
        "print(teja)\n",
        "karti=linear_model.LinearRegression()\n",
        "feature=reddy.read_csv('bilal.csv',usecols=[0])\n",
        "label=reddy.read_csv('bilal.csv',usecols=[1])\n",
        "karti.fit(feature,label)\n",
        "print(karti.score(feature,label))"
      ]
    },
    {
      "cell_type": "code",
      "source": [],
      "metadata": {
        "id": "90N7WKLEHAkf"
      },
      "execution_count": 1,
      "outputs": []
    }
  ]
}